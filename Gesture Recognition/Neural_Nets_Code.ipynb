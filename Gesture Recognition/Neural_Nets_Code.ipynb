{
 "cells": [
  {
   "cell_type": "markdown",
   "metadata": {},
   "source": [
    "# Gesture Recognition\n",
    "In this group project, you are going to build a 3D Conv model that will be able to predict the 5 gestures correctly. Please import the following libraries to get started."
   ]
  },
  {
   "cell_type": "code",
   "execution_count": null,
   "metadata": {},
   "outputs": [],
   "source": [
    "import numpy as np\n",
    "import os\n",
    "from os import listdir\n",
    "#from scipy.misc import imread, imresize\n",
    "import datetime\n",
    "import os\n",
    "import cv2 as cv\n",
    "import random as rn\n",
    "import tensorflow as tf\n",
    "from tensorflow import keras\n",
    "#from keras import backend as K\n",
    "from os import listdir"
   ]
  },
  {
   "cell_type": "markdown",
   "metadata": {},
   "source": [
    "We set the random seed so that the results don't vary drastically."
   ]
  },
  {
   "cell_type": "code",
   "execution_count": null,
   "metadata": {},
   "outputs": [],
   "source": [
    "np.random.seed(30)\n",
    "\n",
    "rn.seed(30)\n",
    "\n",
    "tf.random.set_seed(30)"
   ]
  },
  {
   "cell_type": "markdown",
   "metadata": {},
   "source": [
    "In this block, you read the folder names for training and validation. You also set the `batch_size` here. Note that you set the batch size in such a way that you are able to use the GPU in full capacity. You keep increasing the batch size until the machine throws an error."
   ]
  },
  {
   "cell_type": "code",
   "execution_count": null,
   "metadata": {},
   "outputs": [],
   "source": [
    "train_doc = np.random.permutation(open('/home/datasets/Project_data/train.csv').readlines())\n",
    "val_doc = np.random.permutation(open('/home/datasets/Project_data/val.csv').readlines())\n",
    "batch_size = 50 #experiment with the batch size"
   ]
  },
  {
   "cell_type": "code",
   "execution_count": null,
   "metadata": {},
   "outputs": [],
   "source": [
    "print(len(train_doc))\n",
    "print(len(val_doc))"
   ]
  },
  {
   "cell_type": "markdown",
   "metadata": {},
   "source": [
    "## Generator\n",
    "This is one of the most important part of the code. The overall structure of the generator has been given. In the generator, you are going to preprocess the images as you have images of 2 different dimensions as well as create a batch of video frames. You have to experiment with `img_idx`, `y`,`z` and normalization such that you get high accuracy."
   ]
  },
  {
   "cell_type": "markdown",
   "metadata": {},
   "source": [
    "## Custom code for demo on image processing\n",
    "Below i have created a custom code just to demo on reading a random image , then croping it , Resizing and normlising it."
   ]
  },
  {
   "cell_type": "code",
   "execution_count": null,
   "metadata": {},
   "outputs": [],
   "source": [
    "import matplotlib.pyplot as plt\n",
    "import random\n",
    "train_fol = '/home/datasets/Project_data/train'\n",
    "samp = np.random.permutation(train_doc)\n",
    "samp_folder = random.choice(samp).split(';')[0]\n",
    "samp_imgs = os.listdir(train_fol+'/'+ samp_folder)\n",
    "samp_image = cv.imread(train_fol+'/'+ samp_folder+'/'+samp_imgs[0])[...,::-1]\n",
    "h, w ,c  = samp_image.shape\n",
    "plt.figure(figsize=(12, 12))\n",
    "ax = plt.subplot(1, 4, 1)\n",
    "plt.title('Original Image')\n",
    "plt.imshow(samp_image)\n",
    "crop_samp = samp_image[int(h*.20) : h-int(h*.05), int(w*.05) : w-int(w*.05)]\n",
    "ax = plt.subplot(1, 4, 2)\n",
    "plt.title('Cropped Image')\n",
    "plt.imshow(crop_samp)\n",
    "re_sam_image = cv.resize(crop_samp, (150,150), interpolation = cv.INTER_AREA)\n",
    "ax = plt.subplot(1, 4, 3)\n",
    "plt.title('Resized Image')\n",
    "plt.imshow(re_sam_image)\n",
    "norm_samp = np.zeros((150,150))\n",
    "final_sam = cv.normalize(re_sam_image,  norm_samp, 0, 255, cv.NORM_MINMAX)\n",
    "ax = plt.subplot(1, 4, 4)\n",
    "plt.title('Normalised Image')\n",
    "plt.imshow(final_sam)\n",
    "plt.show()"
   ]
  },
  {
   "cell_type": "code",
   "execution_count": null,
   "metadata": {},
   "outputs": [],
   "source": [
    "def generator(source_path, folder_list, batch_size):\n",
    "    print( 'Source path = ', source_path, '; batch size =', batch_size)\n",
    "    img_idx = [1,3,5,7,9,11,12,13,14,15,16,17,19,20,21,22,24,26,28,29]\n",
    "    y=150\n",
    "    z=150\n",
    "    a = len(img_idx) \n",
    "    while True:\n",
    "        t = np.random.permutation(folder_list)\n",
    "        fol = list(t)\n",
    "        num_batches = len(t)//batch_size\n",
    "        for batch in range(num_batches): \n",
    "            batch_data = np.zeros((batch_size,a,y,z,3))  \n",
    "            batch_labels = np.zeros((batch_size,5))\n",
    "            for folder in range(batch_size):\n",
    "                imgs = os.listdir(source_path+'/'+ t[folder + (batch*batch_size)].split(';')[0])\n",
    "                fol.remove(t[folder + (batch*batch_size)])\n",
    "                for idx,item in enumerate(img_idx):\n",
    "                    image = cv.imread(source_path+'/'+ t[folder + (batch*batch_size)].strip().split(';')[0]+'/'+imgs[item])[...,::-1]\n",
    "                    height, width ,channels  = image.shape\n",
    "                    ### Crop image as well crop to or side etc\n",
    "                    #Left_right_Swipe\n",
    "                    if int(t[folder + (batch*batch_size)].strip().split(';')[2]) in (0,1): \n",
    "                        crop = image[int(height*.20) : height-int(height*.05), int(width*.05) : width-int(width*.05)] \n",
    "                    # Rest of the class\n",
    "                    else:\n",
    "                        crop = image[int(height*.10) : height-int(height*.05) ,int(width*.20) : width-int(width*.20)]\n",
    "                    #Resize image to 150*150\n",
    "                    re_image = cv.resize(crop, (y,z), interpolation = cv.INTER_AREA)\n",
    "                    # normalise image\n",
    "                    norm = np.zeros((y,z))\n",
    "                    final = cv.normalize(re_image,  norm, 0, 255, cv.NORM_MINMAX)\n",
    "                    batch_data[folder,idx,:,:,0] = final[:,:,0]\n",
    "                    batch_data[folder,idx,:,:,1] =  final[:,:,1]\n",
    "                    batch_data[folder,idx,:,:,2] = final[:,:,2]\n",
    "        \n",
    "                batch_labels[folder, int(t[folder + (batch*batch_size)].strip().split(';')[2])] = 1\n",
    "            yield batch_data, batch_labels \n",
    "                    #code for the remaining data points which are left after full batches\n",
    "        pen_fol = len(fol)\n",
    "        batch_data = np.zeros((pen_fol,a,y,z,3))  \n",
    "        batch_labels = np.zeros((pen_fol,5))\n",
    "        for folder in range(pen_fol):\n",
    "            sel_fol = fol[folder].split(';')[0]\n",
    "            imgs = os.listdir(source_path+'/'+ sel_fol)\n",
    "            for idx,item in enumerate(img_idx):\n",
    "                image = cv.imread(source_path+'/'+ sel_fol+'/'+imgs[item])[...,::-1]\n",
    "                height, width ,channels  = image.shape\n",
    "                ### Crop image as well crop to or side etc\n",
    "                #Left_right_Swipe\n",
    "                if int(fol[folder].split(';')[2]) in (0,1): \n",
    "                    crop = image[int(height*.20) : height-int(height*.05), int(width*.05) : width-int(width*.05)]\n",
    "                # Rest of the class\n",
    "                else:\n",
    "                    crop = image[int(height*.10) : height-int(height*.05) ,int(width*.20) : width-int(width*.20)]\n",
    "                #Resize image to 140*140\n",
    "                re_image = cv.resize(crop, (y,z), interpolation = cv.INTER_AREA)\n",
    "                norm = np.zeros((y,z))\n",
    "                final = cv.normalize(re_image,  norm, 0, 255, cv.NORM_MINMAX)\n",
    "                # normalise image\n",
    "                norm = np.zeros((y,z))\n",
    "                final = cv.normalize(re_image,  norm, 0, 255, cv.NORM_MINMAX)\n",
    "                batch_data[folder,idx,:,:,0] = final[:,:,0] #normalise and feed in the image\n",
    "                batch_data[folder,idx,:,:,1] = final[:,:,1]#normalise and feed in the image\n",
    "                batch_data[folder,idx,:,:,2] = final[:,:,2]#normalise and feed in the image\n",
    "            batch_labels[folder, int(fol[folder].split(';')[2])] = 1\n",
    "        yield batch_data, batch_labels       \n"
   ]
  },
  {
   "cell_type": "markdown",
   "metadata": {},
   "source": [
    "Note here that a video is represented above in the generator as (number of images, height, width, number of channels). Take this into consideration while creating the model architecture."
   ]
  },
  {
   "cell_type": "code",
   "execution_count": null,
   "metadata": {},
   "outputs": [],
   "source": [
    "curr_dt_time = datetime.datetime.now()\n",
    "train_path = '/home/datasets/Project_data/train'\n",
    "val_path = '/home/datasets/Project_data/val'\n",
    "num_train_sequences = len(train_doc)\n",
    "print('# training sequences =', num_train_sequences)\n",
    "num_val_sequences = len(val_doc)\n",
    "print('# validation sequences =', num_val_sequences)\n",
    "num_epochs = 25 # choose the number of epochs  atleast 50 \n",
    "print ('# epochs =', num_epochs)"
   ]
  },
  {
   "cell_type": "markdown",
   "metadata": {},
   "source": [
    "## Model\n",
    "Here you make the model using different functionalities that Keras provides. Remember to use `Conv3D` and `MaxPooling3D` and not `Conv2D` and `Maxpooling2D` for a 3D convolution model. You would want to use `TimeDistributed` while building a Conv2D + RNN model. Also remember that the last layer is the softmax. Design the network in such a way that the model is able to give good accuracy on the least number of parameters so that it can fit in the memory of the webcam."
   ]
  },
  {
   "cell_type": "code",
   "execution_count": null,
   "metadata": {},
   "outputs": [],
   "source": [
    "from tensorflow.keras.models import Sequential, Model\n",
    "from tensorflow.keras.layers import Dense, GRU, Flatten, TimeDistributed, Flatten, BatchNormalization, Activation\n",
    "from tensorflow.keras.layers import Conv3D, MaxPooling3D,Dropout\n",
    "from tensorflow.keras.callbacks import ModelCheckpoint, ReduceLROnPlateau\n",
    "from tensorflow.keras import optimizers\n",
    "from tensorflow.keras.regularizers import l2\n",
    "#write your model here"
   ]
  },
  {
   "cell_type": "code",
   "execution_count": null,
   "metadata": {},
   "outputs": [],
   "source": [
    "sample_shape = (20,150, 150, 3)\n",
    "model = Sequential()\n",
    "model.add(Conv3D(32,kernel_size=(3,3,3),activation='relu',input_shape=sample_shape))\n",
    "model.add(MaxPooling3D(pool_size=(2,2,2)))\n",
    "model.add(BatchNormalization(center=True, scale=True))\n",
    "model.add(Dropout(0.5))\n",
    "model.add(Conv3D(64, kernel_size=(3, 3, 3), activation='relu'))\n",
    "model.add(MaxPooling3D(pool_size=(2, 2, 2)))\n",
    "model.add(BatchNormalization(center=True, scale=True))\n",
    "model.add(Dropout(0.5))\n",
    "model.add(Conv3D(128, kernel_size=(3, 3, 3), activation='relu',kernel_regularizer=l2(0.01),padding=\"same\"))\n",
    "model.add(MaxPooling3D(pool_size=(2, 2, 2)))\n",
    "model.add(BatchNormalization(center=True, scale=True))\n",
    "model.add(Dropout(0.5))\n",
    "model.add(Flatten())\n",
    "model.add(Dense(5,activation='softmax'))"
   ]
  },
  {
   "cell_type": "markdown",
   "metadata": {},
   "source": [
    "Now that you have written the model, the next step is to `compile` the model. When you print the `summary` of the model, you'll see the total number of parameters you have to train."
   ]
  },
  {
   "cell_type": "code",
   "execution_count": null,
   "metadata": {
    "scrolled": true
   },
   "outputs": [],
   "source": [
    "optimizer = keras.optimizers.Adam(lr=0.01)\n",
    "model.compile(optimizer=optimizer, loss='categorical_crossentropy', metrics=['categorical_accuracy'])\n",
    "print (model.summary())"
   ]
  },
  {
   "cell_type": "markdown",
   "metadata": {},
   "source": [
    "Let us create the `train_generator` and the `val_generator` which will be used in `.fit_generator`."
   ]
  },
  {
   "cell_type": "code",
   "execution_count": null,
   "metadata": {},
   "outputs": [],
   "source": [
    "train_generator = generator(train_path, train_doc, batch_size)\n",
    "val_generator = generator(val_path, val_doc, batch_size)"
   ]
  },
  {
   "cell_type": "code",
   "execution_count": null,
   "metadata": {},
   "outputs": [],
   "source": [
    "model_name = 'model_init' + '_' + str(curr_dt_time).replace(' ','').replace(':','_') + '/'\n",
    "    \n",
    "if not os.path.exists(model_name):\n",
    "    os.mkdir(model_name)\n",
    "        \n",
    "filepath = model_name + 'model-{epoch:05d}-{loss:.5f}-{categorical_accuracy:.5f}-{val_loss:.5f}-{val_categorical_accuracy:.5f}.h5'\n",
    "\n",
    "checkpoint = ModelCheckpoint(filepath, monitor='val_loss', verbose=1, save_best_only=False, save_weights_only=False,save_freq=\"epoch\", mode='auto')\n",
    "#num_epochs\n",
    "LR = 0.001 # write the REducelronplateau code here\n",
    "callbacks_list = [checkpoint]"
   ]
  },
  {
   "cell_type": "markdown",
   "metadata": {},
   "source": [
    "The `steps_per_epoch` and `validation_steps` are used by `fit_generator` to decide the number of next() calls it need to make."
   ]
  },
  {
   "cell_type": "code",
   "execution_count": null,
   "metadata": {},
   "outputs": [],
   "source": [
    "if (num_train_sequences%batch_size) == 0:\n",
    "    steps_per_epoch = int(num_train_sequences/batch_size)\n",
    "else:\n",
    "    steps_per_epoch = (num_train_sequences//batch_size) + 1\n",
    "\n",
    "if (num_val_sequences%batch_size) == 0:\n",
    "    validation_steps = int(num_val_sequences/batch_size)\n",
    "else:\n",
    "    validation_steps = (num_val_sequences//batch_size) + 1\n",
    "print(steps_per_epoch,validation_steps)"
   ]
  },
  {
   "cell_type": "markdown",
   "metadata": {},
   "source": [
    "Let us now fit the model. This will start training the model and with the help of the checkpoints, you'll be able to save the model at the end of each epoch."
   ]
  },
  {
   "cell_type": "code",
   "execution_count": null,
   "metadata": {},
   "outputs": [],
   "source": [
    "history = model.fit(train_generator, steps_per_epoch=steps_per_epoch, epochs=num_epochs, verbose=1, \n",
    "                    callbacks=callbacks_list, validation_data=val_generator, \n",
    "                    validation_steps=validation_steps, class_weight=None, workers=1, initial_epoch=0)"
   ]
  },
  {
   "cell_type": "code",
   "execution_count": null,
   "metadata": {},
   "outputs": [],
   "source": [
    "plt.figure(figsize=(6, 6))\n",
    "plt.plot(history.history['categorical_accuracy'])\n",
    "plt.plot(history.history['val_categorical_accuracy'])\n",
    "plt.title('model accuracy')\n",
    "plt.ylabel('accuracy')\n",
    "plt.xlabel('epoch')\n",
    "plt.legend(['train', 'val'], loc='upper left')\n",
    "plt.show()\n",
    "plt.plot(history.history['loss'])\n",
    "plt.plot(history.history['val_loss'])\n",
    "plt.title('model loss')\n",
    "plt.ylabel('loss')\n",
    "plt.xlabel('epoch')\n",
    "plt.legend(['train', 'val'], loc='upper left')\n",
    "plt.show()"
   ]
  },
  {
   "cell_type": "code",
   "execution_count": null,
   "metadata": {},
   "outputs": [],
   "source": []
  }
 ],
 "metadata": {
  "kernelspec": {
   "display_name": "Python 3",
   "language": "python",
   "name": "python3"
  },
  "language_info": {
   "codemirror_mode": {
    "name": "ipython",
    "version": 3
   },
   "file_extension": ".py",
   "mimetype": "text/x-python",
   "name": "python",
   "nbconvert_exporter": "python",
   "pygments_lexer": "ipython3",
   "version": "3.6.9"
  }
 },
 "nbformat": 4,
 "nbformat_minor": 4
}
